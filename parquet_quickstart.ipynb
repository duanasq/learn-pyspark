{
 "cells": [
  {
   "cell_type": "code",
   "execution_count": 5,
   "id": "c772750f",
   "metadata": {},
   "outputs": [
    {
     "name": "stdout",
     "output_type": "stream",
     "text": [
      "mkdir: /tmp/learn-parquet: File exists\r\n"
     ]
    }
   ],
   "source": [
    "!mkdir /tmp/learn-parquet"
   ]
  },
  {
   "cell_type": "code",
   "execution_count": 42,
   "id": "2577bf1c",
   "metadata": {},
   "outputs": [],
   "source": [
    "from pyspark.sql import SparkSession\n",
    "from datetime import datetime, date\n",
    "from faker import Faker\n",
    "import pandas as pd\n",
    "from random import randint, choice\n",
    "\n",
    "spark = SparkSession.builder.getOrCreate()"
   ]
  },
  {
   "cell_type": "code",
   "execution_count": 43,
   "id": "144a6017",
   "metadata": {},
   "outputs": [
    {
     "data": {
      "text/plain": [
       "85000"
      ]
     },
     "execution_count": 43,
     "metadata": {},
     "output_type": "execute_result"
    }
   ],
   "source": [
    "fake_salary = lambda : (randint(20000, 200000) // 1000 ) * 1000\n",
    "fake_salary()"
   ]
  },
  {
   "cell_type": "code",
   "execution_count": 44,
   "id": "5b35c338",
   "metadata": {},
   "outputs": [
    {
     "data": {
      "text/plain": [
       "'custom'"
      ]
     },
     "execution_count": 44,
     "metadata": {},
     "output_type": "execute_result"
    }
   ],
   "source": [
    "fake_gender = lambda : choice(['man', 'woman', 'nonbinary', 'custom'])\n",
    "fake_gender()"
   ]
  },
  {
   "cell_type": "code",
   "execution_count": 53,
   "id": "b25d4280",
   "metadata": {},
   "outputs": [
    {
     "data": {
      "text/plain": [
       "[('Christina', 'Tucker', '2020-05-29', 'woman', 188000),\n",
       " ('Brian', 'Lynn', '2014-12-18', 'man', 23000),\n",
       " ('Stephanie', 'Forbes', '1983-04-10', 'man', 191000),\n",
       " ('Richard', 'Harrison', '1970-06-16', 'woman', 50000),\n",
       " ('Kathy', 'Contreras', '2018-07-26', 'nonbinary', 155000)]"
      ]
     },
     "execution_count": 53,
     "metadata": {},
     "output_type": "execute_result"
    }
   ],
   "source": [
    "fake = Faker()\n",
    "data = [(fake.first_name(), fake.last_name(), fake.date(), fake_gender(), fake_salary()) for i in range(100)]\n",
    "data[:5]"
   ]
  },
  {
   "cell_type": "code",
   "execution_count": 54,
   "id": "62c19e6e",
   "metadata": {},
   "outputs": [
    {
     "data": {
      "text/plain": [
       "DataFrame[firstname: string, lastname: string, dob: string, gender: string, salary: bigint]"
      ]
     },
     "execution_count": 54,
     "metadata": {},
     "output_type": "execute_result"
    }
   ],
   "source": [
    "df = spark.createDataFrame(data[:5], schema=[\"firstname\",\"lastname\",\"dob\",\"gender\",\"salary\"])\n",
    "df"
   ]
  },
  {
   "cell_type": "markdown",
   "id": "d4c66a6f",
   "metadata": {},
   "source": [
    "This will create one partition per item"
   ]
  },
  {
   "cell_type": "code",
   "execution_count": 56,
   "id": "e4310a8f",
   "metadata": {},
   "outputs": [],
   "source": [
    "df.write.parquet(\"/tmp/learn-parquet/people.parquet\")"
   ]
  },
  {
   "cell_type": "code",
   "execution_count": 57,
   "id": "19f86ebd",
   "metadata": {},
   "outputs": [
    {
     "name": "stdout",
     "output_type": "stream",
     "text": [
      "_SUCCESS\r\n",
      "part-00000-2eaa9efb-a128-4049-9587-f5b35f466b88-c000.snappy.parquet\r\n",
      "part-00001-2eaa9efb-a128-4049-9587-f5b35f466b88-c000.snappy.parquet\r\n",
      "part-00003-2eaa9efb-a128-4049-9587-f5b35f466b88-c000.snappy.parquet\r\n",
      "part-00005-2eaa9efb-a128-4049-9587-f5b35f466b88-c000.snappy.parquet\r\n",
      "part-00007-2eaa9efb-a128-4049-9587-f5b35f466b88-c000.snappy.parquet\r\n",
      "part-00009-2eaa9efb-a128-4049-9587-f5b35f466b88-c000.snappy.parquet\r\n"
     ]
    }
   ],
   "source": [
    "!ls /tmp/learn-parquet/people.parquet"
   ]
  },
  {
   "cell_type": "code",
   "execution_count": 58,
   "id": "453faefc",
   "metadata": {},
   "outputs": [],
   "source": [
    "df = spark.createDataFrame(data, [\"firstname\",\"lastname\",\"dob\",\"gender\",\"salary\"])\n",
    "df.write.parquet(\"/tmp/learn-parquet/people.parquet2\")"
   ]
  },
  {
   "cell_type": "markdown",
   "id": "ef7cd05f",
   "metadata": {},
   "source": [
    "This creates ten partitions for some reason.. (there are 100 items)"
   ]
  },
  {
   "cell_type": "code",
   "execution_count": 59,
   "id": "cc3934c6",
   "metadata": {},
   "outputs": [
    {
     "name": "stdout",
     "output_type": "stream",
     "text": [
      "_SUCCESS\r\n",
      "part-00000-110f07d5-a9b8-4bca-8541-a3484039a76f-c000.snappy.parquet\r\n",
      "part-00001-110f07d5-a9b8-4bca-8541-a3484039a76f-c000.snappy.parquet\r\n",
      "part-00002-110f07d5-a9b8-4bca-8541-a3484039a76f-c000.snappy.parquet\r\n",
      "part-00003-110f07d5-a9b8-4bca-8541-a3484039a76f-c000.snappy.parquet\r\n",
      "part-00004-110f07d5-a9b8-4bca-8541-a3484039a76f-c000.snappy.parquet\r\n",
      "part-00005-110f07d5-a9b8-4bca-8541-a3484039a76f-c000.snappy.parquet\r\n",
      "part-00006-110f07d5-a9b8-4bca-8541-a3484039a76f-c000.snappy.parquet\r\n",
      "part-00007-110f07d5-a9b8-4bca-8541-a3484039a76f-c000.snappy.parquet\r\n",
      "part-00008-110f07d5-a9b8-4bca-8541-a3484039a76f-c000.snappy.parquet\r\n",
      "part-00009-110f07d5-a9b8-4bca-8541-a3484039a76f-c000.snappy.parquet\r\n"
     ]
    }
   ],
   "source": [
    "!ls /tmp/learn-parquet/people.parquet2"
   ]
  },
  {
   "cell_type": "code",
   "execution_count": 72,
   "id": "1140f2c2",
   "metadata": {},
   "outputs": [],
   "source": [
    "rdd = spark.sparkContext.parallelize(data, 5)\n",
    "df = spark.createDataFrame(rdd, [\"firstname\",\"lastname\",\"dob\",\"gender\",\"salary\"])\n",
    "df.write.parquet(\"/tmp/learn-parquet/people.parquet3\")"
   ]
  },
  {
   "cell_type": "markdown",
   "id": "4af91077",
   "metadata": {},
   "source": [
    "This creates 5 partitions because we partitioned the data into 5 partitions."
   ]
  },
  {
   "cell_type": "code",
   "execution_count": 73,
   "id": "7e0ce048",
   "metadata": {},
   "outputs": [
    {
     "name": "stdout",
     "output_type": "stream",
     "text": [
      "_SUCCESS\r\n",
      "part-00000-493be267-8a8c-4d0f-ae90-f8f70a827ba6-c000.snappy.parquet\r\n",
      "part-00001-493be267-8a8c-4d0f-ae90-f8f70a827ba6-c000.snappy.parquet\r\n",
      "part-00002-493be267-8a8c-4d0f-ae90-f8f70a827ba6-c000.snappy.parquet\r\n",
      "part-00003-493be267-8a8c-4d0f-ae90-f8f70a827ba6-c000.snappy.parquet\r\n",
      "part-00004-493be267-8a8c-4d0f-ae90-f8f70a827ba6-c000.snappy.parquet\r\n"
     ]
    }
   ],
   "source": [
    "!ls /tmp/learn-parquet/people.parquet3"
   ]
  },
  {
   "cell_type": "code",
   "execution_count": null,
   "id": "b7b79e9c",
   "metadata": {},
   "outputs": [],
   "source": []
  }
 ],
 "metadata": {
  "kernelspec": {
   "display_name": "Python 3 (ipykernel)",
   "language": "python",
   "name": "python3"
  },
  "language_info": {
   "codemirror_mode": {
    "name": "ipython",
    "version": 3
   },
   "file_extension": ".py",
   "mimetype": "text/x-python",
   "name": "python",
   "nbconvert_exporter": "python",
   "pygments_lexer": "ipython3",
   "version": "3.9.16"
  }
 },
 "nbformat": 4,
 "nbformat_minor": 5
}
