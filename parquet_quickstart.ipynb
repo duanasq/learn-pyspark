{
 "cells": [
  {
   "cell_type": "markdown",
   "id": "71229187",
   "metadata": {},
   "source": [
    "Adapted tutorial from https://sparkbyexamples.com/spark/spark-read-write-dataframe-parquet-example/"
   ]
  },
  {
   "cell_type": "code",
   "execution_count": 5,
   "id": "c772750f",
   "metadata": {},
   "outputs": [
    {
     "name": "stdout",
     "output_type": "stream",
     "text": [
      "mkdir: /tmp/learn-parquet: File exists\r\n"
     ]
    }
   ],
   "source": [
    "!mkdir /tmp/learn-parquet"
   ]
  },
  {
   "cell_type": "code",
   "execution_count": 8,
   "id": "2577bf1c",
   "metadata": {},
   "outputs": [],
   "source": [
    "from pyspark.sql import SparkSession\n",
    "from datetime import datetime, date\n",
    "import pandas as pd\n",
    "\n",
    "spark = SparkSession.builder.getOrCreate()"
   ]
  },
  {
   "cell_type": "code",
   "execution_count": 9,
   "id": "62c19e6e",
   "metadata": {},
   "outputs": [
    {
     "data": {
      "text/plain": [
       "DataFrame[firstname: string, middlename: string, lastname: string, dob: string, gender: string, salary: bigint]"
      ]
     },
     "execution_count": 9,
     "metadata": {},
     "output_type": "execute_result"
    }
   ],
   "source": [
    "# create a sample DF\n",
    "\n",
    "data = [(\"James \",\"\",\"Smith\",\"36636\",\"M\",3000),\n",
    "              (\"Michael \",\"Rose\",\"\",\"40288\",\"M\",4000),\n",
    "              (\"Robert \",\"\",\"Williams\",\"42114\",\"M\",4000),\n",
    "              (\"Maria \",\"Anne\",\"Jones\",\"39192\",\"F\",4000),\n",
    "              (\"Jen\",\"Mary\",\"Brown\",\"\",\"F\",-1)]\n",
    "\n",
    "rdd = spark.sparkContext.parallelize(data)\n",
    "df = spark.createDataFrame(rdd, schema=[\"firstname\",\"middlename\",\"lastname\",\"dob\",\"gender\",\"salary\"])\n",
    "df"
   ]
  },
  {
   "cell_type": "code",
   "execution_count": 15,
   "id": "e4310a8f",
   "metadata": {},
   "outputs": [],
   "source": [
    "df.write.parquet(\"/tmp/learn-parquet/people.parquet\")"
   ]
  },
  {
   "cell_type": "code",
   "execution_count": 16,
   "id": "19f86ebd",
   "metadata": {},
   "outputs": [
    {
     "name": "stdout",
     "output_type": "stream",
     "text": [
      "_SUCCESS\r\n",
      "part-00000-11f3938e-a155-42d1-bec0-d1400a35d2b0-c000.snappy.parquet\r\n",
      "part-00001-11f3938e-a155-42d1-bec0-d1400a35d2b0-c000.snappy.parquet\r\n",
      "part-00003-11f3938e-a155-42d1-bec0-d1400a35d2b0-c000.snappy.parquet\r\n",
      "part-00005-11f3938e-a155-42d1-bec0-d1400a35d2b0-c000.snappy.parquet\r\n",
      "part-00007-11f3938e-a155-42d1-bec0-d1400a35d2b0-c000.snappy.parquet\r\n",
      "part-00009-11f3938e-a155-42d1-bec0-d1400a35d2b0-c000.snappy.parquet\r\n"
     ]
    }
   ],
   "source": [
    "!ls /tmp/learn-parquet/people.parquet"
   ]
  },
  {
   "cell_type": "code",
   "execution_count": 17,
   "id": "453faefc",
   "metadata": {},
   "outputs": [],
   "source": [
    "df = spark.createDataFrame(data, [\"firstname\",\"middlename\",\"lastname\",\"dob\",\"gender\",\"salary\"])\n",
    "df.write.parquet(\"/tmp/learn-parquet/people.parquet2\")"
   ]
  },
  {
   "cell_type": "code",
   "execution_count": 18,
   "id": "316ecd31",
   "metadata": {},
   "outputs": [
    {
     "name": "stdout",
     "output_type": "stream",
     "text": [
      "_SUCCESS\r\n",
      "part-00000-992f69cc-1da5-4acd-9948-c8eca8585e3a-c000.snappy.parquet\r\n",
      "part-00001-992f69cc-1da5-4acd-9948-c8eca8585e3a-c000.snappy.parquet\r\n",
      "part-00003-992f69cc-1da5-4acd-9948-c8eca8585e3a-c000.snappy.parquet\r\n",
      "part-00005-992f69cc-1da5-4acd-9948-c8eca8585e3a-c000.snappy.parquet\r\n",
      "part-00007-992f69cc-1da5-4acd-9948-c8eca8585e3a-c000.snappy.parquet\r\n",
      "part-00009-992f69cc-1da5-4acd-9948-c8eca8585e3a-c000.snappy.parquet\r\n"
     ]
    }
   ],
   "source": [
    "!ls /tmp/learn-parquet/people.parquet2"
   ]
  },
  {
   "cell_type": "code",
   "execution_count": null,
   "id": "f1e1106a",
   "metadata": {},
   "outputs": [],
   "source": []
  }
 ],
 "metadata": {
  "kernelspec": {
   "display_name": "Python 3 (ipykernel)",
   "language": "python",
   "name": "python3"
  },
  "language_info": {
   "codemirror_mode": {
    "name": "ipython",
    "version": 3
   },
   "file_extension": ".py",
   "mimetype": "text/x-python",
   "name": "python",
   "nbconvert_exporter": "python",
   "pygments_lexer": "ipython3",
   "version": "3.9.16"
  }
 },
 "nbformat": 4,
 "nbformat_minor": 5
}
